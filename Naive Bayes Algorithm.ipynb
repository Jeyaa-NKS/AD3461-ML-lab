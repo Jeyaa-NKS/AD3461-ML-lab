{
 "cells": [
  {
   "cell_type": "code",
   "execution_count": 2,
   "id": "fcb4543b",
   "metadata": {},
   "outputs": [
    {
     "name": "stdout",
     "output_type": "stream",
     "text": [
      "THe first 5 values of data is :\n",
      "       id  gender   age  hypertension  heart_disease ever_married  \\\n",
      "0   9046    Male  67.0             0              1          Yes   \n",
      "1  51676  Female  61.0             0              0          Yes   \n",
      "2  31112    Male  80.0             0              1          Yes   \n",
      "3  60182  Female  49.0             0              0          Yes   \n",
      "4   1665  Female  79.0             1              0          Yes   \n",
      "\n",
      "       work_type Residence_type  avg_glucose_level  stroke  \n",
      "0        Private          Urban             228.69       1  \n",
      "1  Self-employed          Rural             202.21       1  \n",
      "2        Private          Rural             105.92       1  \n",
      "3        Private          Urban             171.23       1  \n",
      "4  Self-employed          Rural             174.12       1  \n"
     ]
    }
   ],
   "source": [
    "# import necessary libaries\n",
    "import pandas as pd\n",
    "from sklearn import tree\n",
    "from sklearn.preprocessing import LabelEncoder\n",
    "from sklearn.naive_bayes import GaussianNB\n",
    "\n",
    "# load data from CSV\n",
    "data = pd.read_csv('healthcare-dataset-stroke-data.csv')\n",
    "print(\"THe first 5 values of data is :\\n\",data.head())"
   ]
  },
  {
   "cell_type": "code",
   "execution_count": 2,
   "id": "f1fb7034",
   "metadata": {},
   "outputs": [
    {
     "name": "stdout",
     "output_type": "stream",
     "text": [
      "\n",
      "The First 5 values of train data is\n",
      "       id  gender   age  hypertension  heart_disease ever_married  \\\n",
      "0   9046    Male  67.0             0              1          Yes   \n",
      "1  51676  Female  61.0             0              0          Yes   \n",
      "2  31112    Male  80.0             0              1          Yes   \n",
      "3  60182  Female  49.0             0              0          Yes   \n",
      "4   1665  Female  79.0             1              0          Yes   \n",
      "\n",
      "       work_type Residence_type  avg_glucose_level  \n",
      "0        Private          Urban             228.69  \n",
      "1  Self-employed          Rural             202.21  \n",
      "2        Private          Rural             105.92  \n",
      "3        Private          Urban             171.23  \n",
      "4  Self-employed          Rural             174.12  \n"
     ]
    }
   ],
   "source": [
    "# obtain Train data and Train output\n",
    "X = data.iloc[:,:-1]\n",
    "print(\"\\nThe First 5 values of train data is\\n\",X.head())"
   ]
  },
  {
   "cell_type": "code",
   "execution_count": 5,
   "id": "ee6f183d",
   "metadata": {},
   "outputs": [
    {
     "name": "stdout",
     "output_type": "stream",
     "text": [
      "\n",
      "The first 5 values of Train output is\n",
      " 0    1\n",
      "1    1\n",
      "2    1\n",
      "3    1\n",
      "4    1\n",
      "Name: stroke, dtype: int64\n"
     ]
    }
   ],
   "source": [
    "y = data.iloc[:,-1]\n",
    "print(\"\\nThe first 5 values of Train output is\\n\",y.head())"
   ]
  },
  {
   "cell_type": "code",
   "execution_count": 6,
   "id": "2ac9f748",
   "metadata": {},
   "outputs": [
    {
     "name": "stdout",
     "output_type": "stream",
     "text": [
      "\n",
      "Now the Train data is :\n",
      "       id  gender   age  hypertension  heart_disease  ever_married  work_type  \\\n",
      "0   9046       1  67.0             0              1             1          2   \n",
      "1  51676       0  61.0             0              0             1          3   \n",
      "2  31112       1  80.0             0              1             1          2   \n",
      "3  60182       0  49.0             0              0             1          2   \n",
      "4   1665       0  79.0             1              0             1          3   \n",
      "\n",
      "   Residence_type  avg_glucose_level  \n",
      "0               1             228.69  \n",
      "1               0             202.21  \n",
      "2               0             105.92  \n",
      "3               1             171.23  \n",
      "4               0             174.12  \n"
     ]
    }
   ],
   "source": [
    "# Convert then in numbers \n",
    "le_gender = LabelEncoder()\n",
    "X.gender = le_gender.fit_transform(X.gender)\n",
    "\n",
    "le_ever_married = LabelEncoder()\n",
    "X.ever_married = le_ever_married.fit_transform(X.ever_married)\n",
    "\n",
    "le_work_type = LabelEncoder()\n",
    "X.work_type = le_work_type.fit_transform(X.work_type)\n",
    "\n",
    "le_Residence_type = LabelEncoder()\n",
    "X.Residence_type = le_Residence_type.fit_transform(X.Residence_type)\n",
    "\n",
    "\n",
    "print(\"\\nNow the Train data is :\\n\",X.head())"
   ]
  },
  {
   "cell_type": "code",
   "execution_count": 7,
   "id": "24fd7e73",
   "metadata": {},
   "outputs": [
    {
     "name": "stdout",
     "output_type": "stream",
     "text": [
      "\n",
      "Now the Train output is\n",
      " [1 1 1 ... 0 0 0]\n"
     ]
    }
   ],
   "source": [
    "le_strokedata = LabelEncoder()\n",
    "y = le_strokedata.fit_transform(y)\n",
    "print(\"\\nNow the Train output is\\n\",y)"
   ]
  },
  {
   "cell_type": "code",
   "execution_count": 8,
   "id": "f2105302",
   "metadata": {},
   "outputs": [
    {
     "name": "stdout",
     "output_type": "stream",
     "text": [
      "Accuracy is: 0.9295499021526419\n"
     ]
    }
   ],
   "source": [
    "from sklearn.model_selection import train_test_split\n",
    "X_train, X_test, y_train, y_test = train_test_split(X, y, test_size=0.20, random_state=42)\n",
    "\n",
    "classifier = GaussianNB()\n",
    "classifier.fit(X_train, y_train)\n",
    "\n",
    "from sklearn.metrics import accuracy_score\n",
    "print(\"Accuracy is:\",accuracy_score(classifier.predict(X_test),y_test))"
   ]
  },
  {
   "cell_type": "code",
   "execution_count": null,
   "id": "05c235d2",
   "metadata": {},
   "outputs": [],
   "source": []
  }
 ],
 "metadata": {
  "kernelspec": {
   "display_name": "Python 3 (ipykernel)",
   "language": "python",
   "name": "python3"
  },
  "language_info": {
   "codemirror_mode": {
    "name": "ipython",
    "version": 3
   },
   "file_extension": ".py",
   "mimetype": "text/x-python",
   "name": "python",
   "nbconvert_exporter": "python",
   "pygments_lexer": "ipython3",
   "version": "3.9.13"
  }
 },
 "nbformat": 4,
 "nbformat_minor": 5
}
